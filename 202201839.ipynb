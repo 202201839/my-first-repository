{
  "cells": [
    {
      "cell_type": "code",
      "execution_count": null,
      "metadata": {
        "colab": {
          "background_save": true
        },
        "id": "eE71bYrAItpR"
      },
      "outputs": [],
      "source": [
        "#202201839송주은"
      ]
    },
    {
      "cell_type": "code",
      "execution_count": null,
      "metadata": {
        "colab": {
          "base_uri": "https://localhost:8080/"
        },
        "id": "AKvs7Gm1Iwdl",
        "outputId": "e4d22645-dc42-452f-df1d-a4eb8b899835"
      },
      "outputs": [
        {
          "output_type": "execute_result",
          "data": {
            "text/plain": [
              "3"
            ]
          },
          "metadata": {},
          "execution_count": 13
        }
      ],
      "source": [
        "a=1\n",
        "b=2\n",
        "a+b"
      ]
    },
    {
      "cell_type": "code",
      "execution_count": null,
      "metadata": {
        "colab": {
          "base_uri": "https://localhost:8080/"
        },
        "id": "L9yzJWLEI1pj",
        "outputId": "e11cc57d-000b-48da-afe5-66530790bedd"
      },
      "outputs": [
        {
          "output_type": "stream",
          "name": "stdout",
          "text": [
            "31\n",
            "메세지가 너무 많습니다\n"
          ]
        }
      ],
      "source": [
        "n = int(input())\n",
        "if n > 30 :\n",
        "  print(\"메세지가 너무 많습니다\")\n",
        "else:\n",
        "  for i in range(1, n+1):\n",
        "    for j in range(1,i+1):\n",
        "      print(j, end='')\n",
        "    print()"
      ]
    },
    {
      "cell_type": "code",
      "source": [
        "n = int(input())\n",
        "if n > 30 :\n",
        "  print(\"메세지가 너무 많습니다\")\n",
        "else:\n",
        "  for i in range(1, n+1):\n",
        "    for j in range(1,i+1):\n",
        "      print(j, end='')\n",
        "    print()"
      ],
      "metadata": {
        "colab": {
          "base_uri": "https://localhost:8080/"
        },
        "id": "SdjU5bEwinzk",
        "outputId": "27f5f604-307d-4f4d-ea83-441826f2c4ef"
      },
      "execution_count": null,
      "outputs": [
        {
          "output_type": "stream",
          "name": "stdout",
          "text": [
            "6\n",
            "1\n",
            "12\n",
            "123\n",
            "1234\n",
            "12345\n",
            "123456\n"
          ]
        }
      ]
    },
    {
      "cell_type": "code",
      "source": [
        "while (1): \n",
        " a=input('숫자를 입력하십시오') \n",
        " b=a.isdecimal() \n",
        " if b == True:\n",
        "   if int(a) <= 30: \n",
        "     break \n",
        "   else: \n",
        "      print('숫자가 너무 큽니다.') \n",
        " else: \n",
        "    print('정수를 입력하십시오.') \n",
        "a = int(a)\n",
        "for i in range(1, a+1):\n",
        "  for e in range(1, i+1): \n",
        "    print(e, end='') \n",
        "  print()"
      ],
      "metadata": {
        "colab": {
          "base_uri": "https://localhost:8080/"
        },
        "id": "PwAWA36Ff0kX",
        "outputId": "00f3ec0a-d2d7-484a-cf4f-b9e6005277b9"
      },
      "execution_count": null,
      "outputs": [
        {
          "output_type": "stream",
          "name": "stdout",
          "text": [
            "숫자를 입력하십시오네\n",
            "정수를 입력하십시오.\n",
            "숫자를 입력하십시오14/56\n",
            "정수를 입력하십시오.\n",
            "숫자를 입력하십시오6\n",
            "1\n",
            "12\n",
            "123\n",
            "1234\n",
            "12345\n",
            "123456\n"
          ]
        }
      ]
    }
  ],
  "metadata": {
    "colab": {
      "collapsed_sections": [],
      "provenance": []
    },
    "kernelspec": {
      "display_name": "Python 3",
      "name": "python3"
    },
    "language_info": {
      "name": "python"
    }
  },
  "nbformat": 4,
  "nbformat_minor": 0
}